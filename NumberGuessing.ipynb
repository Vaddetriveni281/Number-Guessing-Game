{
 "cells": [
  {
   "cell_type": "code",
   "execution_count": 2,
   "id": "a2449b48",
   "metadata": {},
   "outputs": [
    {
     "name": "stdout",
     "output_type": "stream",
     "text": [
      "🎯 Welcome to Number Guessing Game!\n",
      "I have picked a number between 1 and 100.\n",
      "Too Low! Try again.\n",
      "Too Low! Try again.\n",
      "Too Low! Try again.\n",
      "Too Low! Try again.\n",
      "Too Low! Try again.\n",
      "Too High! Try again.\n",
      "Too Low! Try again.\n",
      "Too High! Try again.\n",
      "🎉 Correct! You guessed the number in 9 attempts!\n",
      "Thanks for playing! 👋\n"
     ]
    }
   ],
   "source": [
    "import random\n",
    "\n",
    "while True:  # This loop allows the game to restart\n",
    "    # Step 1: Computer picks a number\n",
    "    secret_number = random.randint(1, 100)\n",
    "    attempts = 0\n",
    "\n",
    "    print(\"🎯 Welcome to Number Guessing Game!\")\n",
    "    print(\"I have picked a number between 1 and 100.\")\n",
    "\n",
    "    # Step 2: Player's first guess\n",
    "    guess = int(input(\"Enter your guess: \"))\n",
    "    attempts += 1\n",
    "\n",
    "    # Step 3: Loop until correct\n",
    "    while guess != secret_number:\n",
    "        if guess > secret_number:\n",
    "            print(\"Too High! Try again.\")\n",
    "        elif guess < secret_number:\n",
    "            print(\"Too Low! Try again.\")\n",
    "        guess = int(input(\"Enter your guess again: \"))\n",
    "        attempts += 1\n",
    "\n",
    "    # Step 4: Player wins\n",
    "    print(f\"🎉 Correct! You guessed the number in {attempts} attempts!\")\n",
    "\n",
    "    # Step 5: Ask if the player wants to play again\n",
    "    play_again = input(\"Do you want to play again? (yes/no): \").lower()\n",
    "    if play_again != \"yes\":\n",
    "        print(\"Thanks for playing! 👋\")\n",
    "        break  # Exit the loop if they don't want to play\n"
   ]
  }
 ],
 "metadata": {
  "kernelspec": {
   "display_name": "venv",
   "language": "python",
   "name": "python3"
  },
  "language_info": {
   "codemirror_mode": {
    "name": "ipython",
    "version": 3
   },
   "file_extension": ".py",
   "mimetype": "text/x-python",
   "name": "python",
   "nbconvert_exporter": "python",
   "pygments_lexer": "ipython3",
   "version": "3.12.6"
  }
 },
 "nbformat": 4,
 "nbformat_minor": 5
}
