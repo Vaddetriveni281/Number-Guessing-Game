{
 "cells": [
  {
   "cell_type": "code",
   "execution_count": 1,
   "id": "b474b2e0",
   "metadata": {},
   "outputs": [
    {
     "name": "stdout",
     "output_type": "stream",
     "text": [
      "🎲 Welcome to Dice Roller Simulator 🎲\n",
      "\n",
      "You rolled a 2!\n",
      "+-------+\n",
      "| o     |\n",
      "|       |\n",
      "|     o |\n",
      "+-------+\n",
      "\n",
      "You rolled a 5!\n",
      "+-------+\n",
      "| o   o |\n",
      "|   o   |\n",
      "| o   o |\n",
      "+-------+\n",
      "Thanks for playing! 👋\n"
     ]
    }
   ],
   "source": [
    "import random\n",
    "\n",
    "def roll_dice():\n",
    "    return random.randint(1, 6)\n",
    "\n",
    "def display_dice(value):\n",
    "    dice_faces = {\n",
    "        1: (\"+-------+\",\n",
    "            \"|       |\",\n",
    "            \"|   o   |\",\n",
    "            \"|       |\",\n",
    "            \"+-------+\"),\n",
    "        2: (\"+-------+\",\n",
    "            \"| o     |\",\n",
    "            \"|       |\",\n",
    "            \"|     o |\",\n",
    "            \"+-------+\"),\n",
    "        3: (\"+-------+\",\n",
    "            \"| o     |\",\n",
    "            \"|   o   |\",\n",
    "            \"|     o |\",\n",
    "            \"+-------+\"),\n",
    "        4: (\"+-------+\",\n",
    "            \"| o   o |\",\n",
    "            \"|       |\",\n",
    "            \"| o   o |\",\n",
    "            \"+-------+\"),\n",
    "        5: (\"+-------+\",\n",
    "            \"| o   o |\",\n",
    "            \"|   o   |\",\n",
    "            \"| o   o |\",\n",
    "            \"+-------+\"),\n",
    "        6: (\"+-------+\",\n",
    "            \"| o   o |\",\n",
    "            \"| o   o |\",\n",
    "            \"| o   o |\",\n",
    "            \"+-------+\"),\n",
    "    }\n",
    "\n",
    "    for line in dice_faces[value]:\n",
    "        print(line)\n",
    "\n",
    "def main():\n",
    "    print(\"🎲 Welcome to Dice Roller Simulator 🎲\")\n",
    "    while True:\n",
    "        input(\"Press Enter to roll the dice (or type 'q' to quit): \")\n",
    "        value = roll_dice()\n",
    "        print(f\"\\nYou rolled a {value}!\")\n",
    "        display_dice(value)\n",
    "        again = input(\"\\nRoll again? (Press Enter to continue, 'q' to quit): \")\n",
    "        if again.lower() == 'q':\n",
    "            print(\"Thanks for playing! 👋\")\n",
    "            break\n",
    "\n",
    "if __name__ == \"__main__\":\n",
    "    main()\n"
   ]
  }
 ],
 "metadata": {
  "kernelspec": {
   "display_name": "venv",
   "language": "python",
   "name": "python3"
  },
  "language_info": {
   "codemirror_mode": {
    "name": "ipython",
    "version": 3
   },
   "file_extension": ".py",
   "mimetype": "text/x-python",
   "name": "python",
   "nbconvert_exporter": "python",
   "pygments_lexer": "ipython3",
   "version": "3.12.6"
  }
 },
 "nbformat": 4,
 "nbformat_minor": 5
}
